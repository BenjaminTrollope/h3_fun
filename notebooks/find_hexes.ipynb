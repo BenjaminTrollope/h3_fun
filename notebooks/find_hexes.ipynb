{
 "cells": [
  {
   "cell_type": "markdown",
   "metadata": {},
   "source": [
    "# Imports, ETL"
   ]
  },
  {
   "cell_type": "code",
   "execution_count": 2,
   "metadata": {},
   "outputs": [],
   "source": [
    "import pandas as pd, numpy as np\n",
    "import scipy as sp, statsmodels as sm\n",
    "\n",
    "import h3\n",
    "import geopandas as gpd\n",
    "from geopy import distance\n",
    "from shapely.geometry import Point, Polygon, MultiPolygon\n",
    "from shapely import speedups\n",
    "speedups.enable()\n",
    "\n",
    "import warnings\n",
    "warnings.simplefilter('ignore')\n",
    "\n",
    "import seaborn as sns, matplotlib.pyplot as plt\n",
    "import pydeck\n",
    "\n",
    "import re\n",
    "\n",
    "np.random.seed(666) #random seed"
   ]
  },
  {
   "cell_type": "code",
   "execution_count": null,
   "metadata": {},
   "outputs": [],
   "source": []
  }
 ],
 "metadata": {
  "kernelspec": {
   "display_name": "Python 3",
   "language": "python",
   "name": "python3"
  },
  "language_info": {
   "codemirror_mode": {
    "name": "ipython",
    "version": 3
   },
   "file_extension": ".py",
   "mimetype": "text/x-python",
   "name": "python",
   "nbconvert_exporter": "python",
   "pygments_lexer": "ipython3",
   "version": "3.8.5"
  }
 },
 "nbformat": 4,
 "nbformat_minor": 4
}
