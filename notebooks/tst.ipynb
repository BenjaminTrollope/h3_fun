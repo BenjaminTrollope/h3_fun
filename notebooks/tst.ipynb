{
 "cells": [
  {
   "cell_type": "code",
   "execution_count": null,
   "metadata": {},
   "outputs": [],
   "source": [
    "from jinja2 import Template\n",
    "import os, json, re\n",
    "import pandas as pd, numpy as np"
   ]
  },
  {
   "cell_type": "code",
   "execution_count": null,
   "metadata": {},
   "outputs": [],
   "source": [
    "def map_maker(mapbox_key, triangles, maphtml=''):\n",
    "    print(triangles)\n",
    "    with open(maphtml, 'r') as f:\n",
    "        template = Template(f.read())\n",
    "\n",
    "    out = template.render(mapbox_key=mapbox_key,\n",
    "                          coord_list=triangles)\n",
    "                          \n",
    "    with open(f\"../out_tst.html\", \"w\") as fh:\n",
    "        fh.write(out)\n",
    "    return out\n",
    "\n",
    "\n",
    "\n",
    "if __name__ == \"__main__\":\n",
    "    \n",
    "    triangle_coordinates = '../data/play.csv'\n",
    "    triangle_coordinates = pd.read_csv(triangle_coordinates)\n",
    "    triangles = triangle_coordinates.to_dict(orient='records')\n",
    "\n",
    "        \n",
    "    mapbox_key = '../.to_ignore/keys/mapbox.key'\n",
    "    with open(mapbox_key, mode='r') as thefile:\n",
    "        for line in thefile:\n",
    "            mapbox_key = line[:-1]\n",
    "            break\n",
    "\n",
    "    out_html = map_maker(mapbox_key, triangles[:3], \n",
    "    \t\t\t  maphtml='../templates/tst.html',\n",
    "                         )"
   ]
  }
 ],
 "metadata": {
  "kernelspec": {
   "display_name": "Python 3",
   "language": "python",
   "name": "python3"
  },
  "language_info": {
   "codemirror_mode": {
    "name": "ipython",
    "version": 3
   },
   "file_extension": ".py",
   "mimetype": "text/x-python",
   "name": "python",
   "nbconvert_exporter": "python",
   "pygments_lexer": "ipython3",
   "version": "3.7.6"
  }
 },
 "nbformat": 4,
 "nbformat_minor": 4
}
