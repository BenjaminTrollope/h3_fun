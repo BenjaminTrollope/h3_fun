{
 "cells": [
  {
   "cell_type": "markdown",
   "metadata": {
    "slideshow": {
     "slide_type": "slide"
    }
   },
   "source": [
    "&nbsp;\n",
    "# So we wanted to play with some Public Data!\n",
    "&nbsp;\n",
    "## First, let's pick something to study.\n",
    "&nbsp;"
   ]
  },
  {
   "cell_type": "markdown",
   "metadata": {
    "slideshow": {
     "slide_type": "slide"
    }
   },
   "source": [
    "&nbsp;\n",
    "## Let me ask you a question guys:\n",
    "&nbsp;\n",
    "### How many of you ever needed to find a Bench during your socially-isolated hikes?"
   ]
  },
  {
   "cell_type": "markdown",
   "metadata": {
    "slideshow": {
     "slide_type": "slide"
    }
   },
   "source": [
    "&nbsp;\n",
    "# **Tumbleweed rolls slowly**\n",
    "&nbsp;"
   ]
  },
  {
   "cell_type": "markdown",
   "metadata": {
    "slideshow": {
     "slide_type": "slide"
    }
   },
   "source": [
    "&nbsp;\n",
    "## Ok, what about Toilets?\n",
    "&nbsp;\n",
    "## Or why not both! \n",
    "&nbsp;"
   ]
  },
  {
   "cell_type": "markdown",
   "metadata": {
    "slideshow": {
     "slide_type": "slide"
    }
   },
   "source": [
    "&nbsp;\n",
    "# Its settled, let's get some data!\n",
    "&nbsp;\n",
    "## **Toilet & Bench Coverage***\n",
    "###### *inside an area"
   ]
  },
  {
   "cell_type": "markdown",
   "metadata": {
    "slideshow": {
     "slide_type": "slide"
    }
   },
   "source": [
    "&nbsp;\n",
    "# Imports and credentials\n",
    "For this recipe :) we will need:"
   ]
  },
  {
   "cell_type": "code",
   "execution_count": null,
   "metadata": {
    "slideshow": {
     "slide_type": "skip"
    }
   },
   "outputs": [],
   "source": [
    "import warnings\n",
    "warnings.simplefilter('ignore')"
   ]
  },
  {
   "cell_type": "code",
   "execution_count": null,
   "metadata": {
    "slideshow": {
     "slide_type": "fragment"
    }
   },
   "outputs": [],
   "source": [
    "#eggs and flour\n",
    "import pandas as pd, numpy as np\n",
    "\n",
    "#butter and milk (geo libraries)\n",
    "import geopandas as gpd\n",
    "from shapely.geometry import Point, Polygon\n",
    "#optional speed-ups\n",
    "from shapely import speedups \n",
    "speedups.enable() \n",
    "\n",
    "#granny's kitchen-aid from the 60's \n",
    "import h3\n",
    "import overpass\n",
    "\n",
    "#whipped cream\n",
    "import pydeck as pdk\n",
    "\n",
    "#a mapbox api key for tiles (get your own at mapbox.com)\n",
    "with open('./.to_ignore/keys/v1_mapbox.key', 'r') as f:\n",
    "    mapbox_key= f.read()[:-1]"
   ]
  },
  {
   "cell_type": "markdown",
   "metadata": {
    "slideshow": {
     "slide_type": "slide"
    }
   },
   "source": [
    "&nbsp;\n",
    "## OpenStreetmap's Data + Overpass API\n",
    "&nbsp;\n",
    "\n",
    "#### Below is a simple method that builds a geoDataFrame from:\n",
    "    * Querying OSM for all nodes/ways\n",
    "    * Tagged as \"amenity\"with \"bench\" or \"toilets\" as a value\n",
    "\n",
    "&nbsp;"
   ]
  },
  {
   "cell_type": "code",
   "execution_count": null,
   "metadata": {
    "slideshow": {
     "slide_type": "fragment"
    }
   },
   "outputs": [],
   "source": [
    "def fetch_amenity_gdf(amenity_types, area_name, adm_lvl, timeout_sec=90):\n",
    "    #exports a shapefile with OSM's response to a request of data for\n",
    "    #amenities of amenity_type in area_name / adm_lvl.\n",
    "    #examples of adm_lvl areas: https://www.openstreetmap.org/relation/52822\n",
    "    query=f'( area[admin_level={adm_lvl}][\"name\"=\"{area_name}\"]; ) ->.a; \\n('\n",
    "    node_req='\\nnode[\"amenity\"=\"{0}\"](area.a);\\nway[\"amenity\"=\"{0}\"](area.a);'\n",
    "    for x in amenity_types:\n",
    "        query=query+node_req.format(x)\n",
    "    query=query+'\\n);'\n",
    "    print(query)\n",
    "    api = overpass.API(debug=False, timeout=timeout_sec)\n",
    "    try:\n",
    "        result = api.Get(query, responseformat=\"geojson\")\n",
    "        result = gpd.GeoDataFrame.from_features(result['features'])\n",
    "        result.to_file('./.to_ignore/out/'+f'gdf_amenities_{area_name}_{adm_lvl}') \n",
    "    except Exception as HELL:\n",
    "        print(HELL)   "
   ]
  },
  {
   "cell_type": "markdown",
   "metadata": {
    "slideshow": {
     "slide_type": "slide"
    }
   },
   "source": [
    "&nbsp;\n",
    "\n",
    "# Fetch & clean geoDataFrame from OSM\n",
    "\n",
    "&nbsp;\n",
    "\n",
    "#### With features on toilets and benches\n",
    "\n",
    "&nbsp;\n",
    "\n",
    "Avoid querying if file already exists"
   ]
  },
  {
   "cell_type": "code",
   "execution_count": null,
   "metadata": {
    "slideshow": {
     "slide_type": "fragment"
    }
   },
   "outputs": [],
   "source": [
    "area='Göteborgs Stad'\n",
    "lvl='7'\n",
    "try:\n",
    "    gdf_amenity=gpd.read_file('./.to_ignore/out/'+f'gdf_amenities_{area}_{lvl}')\n",
    "except:\n",
    "    print('file_not_found, fetching amenities from OSM')\n",
    "    fetch_amenity_gdf([\"toilets\",\"bench\"], area,lvl)#,'Sverige','2')\n",
    "    gdf_amenity=gpd.read_file('./.to_ignore/out/'+f'gdf_amenities_{area}_{lvl}')\n",
    "gdf_amenity.dropna(subset=['geometry'], inplace=True) #remove nans on geometry\n",
    "gdf_amenity = gdf_amenity.set_crs(epsg=4326) # this is the CRS in OSM"
   ]
  },
  {
   "cell_type": "markdown",
   "metadata": {
    "slideshow": {
     "slide_type": "slide"
    }
   },
   "source": [
    "&nbsp;\n",
    "\n",
    "## What features do we have here?"
   ]
  },
  {
   "cell_type": "code",
   "execution_count": null,
   "metadata": {
    "slideshow": {
     "slide_type": "fragment"
    }
   },
   "outputs": [],
   "source": [
    "print('Features: '+','.join(gdf_amenity.keys()))"
   ]
  },
  {
   "cell_type": "markdown",
   "metadata": {
    "slideshow": {
     "slide_type": "fragment"
    }
   },
   "source": [
    "### Woa. Cambrian explosion of Features.\n",
    "\n",
    "&nbsp;\n",
    "\n",
    "#### Let's remove some that we will not use today :). "
   ]
  },
  {
   "cell_type": "code",
   "execution_count": null,
   "metadata": {
    "slideshow": {
     "slide_type": "fragment"
    }
   },
   "outputs": [],
   "source": [
    "    gdf_amenity=gdf_amenity[['geometry', 'amenity', 'wheelchair', 'backrest', 'fee', 'name', 'wheelcha_1', 'note']]\n",
    "    gdf_amenity[:2]"
   ]
  },
  {
   "cell_type": "markdown",
   "metadata": {
    "slideshow": {
     "slide_type": "slide"
    }
   },
   "source": [
    "&nbsp;\n",
    "## Ok, lets have a look at this features in a map!\n",
    "\n",
    "&nbsp;\n",
    "\n",
    "#### We will use Deck's Jupyter plugin PyDeck\n",
    "\n",
    "&nbsp;\n",
    "\n",
    "**To enable pydeck for Jupyter, run this in command before starting the notebook:**\n",
    "\n",
    "jupyter nbextension install --sys-prefix --symlink --overwrite --py pydeck\n",
    "\n",
    "jupyter nbextension enable --sys-prefix --py pydeck\n",
    "\n",
    "&nbsp;\n",
    "\n",
    "##### And for more info on how to use deck's the jupyter integration, [check here](https://github.com/visgl/deck.gl/blob/master/bindings/pydeck/examples/geopandas_integration.py)\n"
   ]
  },
  {
   "cell_type": "code",
   "execution_count": null,
   "metadata": {
    "slideshow": {
     "slide_type": "fragment"
    }
   },
   "outputs": [],
   "source": [
    "#create separate lng and lat facilitates plotting different things\n",
    "gdf_amenity['lng']= list(map(lambda p: p.x, gdf_amenity.geometry ))\n",
    "gdf_amenity['lat']= list(map(lambda p: p.y, gdf_amenity.geometry ))"
   ]
  },
  {
   "cell_type": "markdown",
   "metadata": {
    "slideshow": {
     "slide_type": "slide"
    }
   },
   "source": [
    "## First, let's generate a viewport\n",
    "\n",
    "&nbsp;\n",
    "\n",
    "### To make sure that basic things such as coordinates are visible"
   ]
  },
  {
   "cell_type": "code",
   "execution_count": null,
   "metadata": {},
   "outputs": [],
   "source": [
    "# Use pydeck's data_utils module to fit a viewport to the central 70% of the data\n",
    "viewport = pdk.data_utils.compute_view(points=gdf_amenity[['lng','lat']],\n",
    "                                       view_proportion=0.7)"
   ]
  },
  {
   "cell_type": "markdown",
   "metadata": {
    "slideshow": {
     "slide_type": "slide"
    }
   },
   "source": [
    "## Now, let's prepare the layers\n",
    "\n",
    "&nbsp;\n",
    "\n",
    "To start, I would like to just look at the geometries (points) in different colours (see docs [here](https://deck.gl/docs/api-reference/layers/scatterplot-layer))"
   ]
  },
  {
   "cell_type": "code",
   "execution_count": null,
   "metadata": {
    "slideshow": {
     "slide_type": "fragment"
    }
   },
   "outputs": [],
   "source": [
    "opacity=0.35\n",
    "radius=60\n",
    "#making toilets a bit more notable ;)\n",
    "toilet_point_ly = pdk.Layer(\"ScatterplotLayer\", getFillColor=[237,102,99],#ed6663\n",
    "            data=gdf_amenity.loc[gdf_amenity.amenity=='toilets'],\n",
    "            pickable=True,getRadius=radius*1.5, \n",
    "            get_position=['lng', 'lat'], opacity=opacity) \n",
    "      bench_point_ly = pdk.Layer(\"ScatterplotLayer\", getFillColor=[78,137,174],#4e89ae\n",
    "           data=gdf_amenity.loc[gdf_amenity.amenity=='bench'],\n",
    "           pickable=True, getRadius=radius,\n",
    "           get_position=['lng', 'lat'], opacity=opacity)\n",
    "\n",
    "ze_map=pdk.Deck([toilet_point_ly, bench_point_ly], \n",
    "                initial_view_state=viewport, mapbox_key=mapbox_key)"
   ]
  },
  {
   "cell_type": "code",
   "execution_count": null,
   "metadata": {
    "slideshow": {
     "slide_type": "slide"
    }
   },
   "outputs": [],
   "source": [
    "ze_map.show()"
   ]
  },
  {
   "cell_type": "markdown",
   "metadata": {
    "slideshow": {
     "slide_type": "slide"
    }
   },
   "source": [
    "&nbsp;\n",
    "\n",
    "##### If you are curious about _what else_ is well documented in OpenStreetMap, check out [overpass-turbo](http://overpass-turbo.eu/) and the [overpass python wrapper](https://github.com/mvexel/overpass-api-python-wrapper/tree/master/examples).\n",
    "\n",
    "&nbsp;"
   ]
  }
 ],
 "metadata": {
  "celltoolbar": "Slideshow",
  "kernelspec": {
   "display_name": "Python 3",
   "language": "python",
   "name": "python3"
  },
  "language_info": {
   "codemirror_mode": {
    "name": "ipython",
    "version": 3
   },
   "file_extension": ".py",
   "mimetype": "text/x-python",
   "name": "python",
   "nbconvert_exporter": "python",
   "pygments_lexer": "ipython3",
   "version": "3.8.5"
  }
 },
 "nbformat": 4,
 "nbformat_minor": 4
}
